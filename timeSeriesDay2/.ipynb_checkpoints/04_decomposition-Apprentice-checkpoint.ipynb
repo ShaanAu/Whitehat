{
 "cells": [
  {
   "cell_type": "markdown",
   "metadata": {
    "colab_type": "text",
    "id": "D401IXIvWUbq"
   },
   "source": [
    "<img src=\"http://imgur.com/1ZcRyrc.png\" style=\"float: left; margin: 20px; height: 55px\">\n",
    "\n",
    "# Time Series: Decomposition"
   ]
  },
  {
   "cell_type": "markdown",
   "metadata": {
    "colab_type": "text",
    "id": "DOhBY0Q2WUbq"
   },
   "source": [
    "### Learning Objectives\n",
    " \n",
    "**After this lesson, you will be able to:**\n",
    "- Describe the different components of time series data (trend, seasonality, cyclical, and residual).\n",
    "- Decompose time series data into trend, seasonality, cyclical, and residual components.\n",
    "- Plot the decomposed components of a time series."
   ]
  },
  {
   "cell_type": "markdown",
   "metadata": {
    "colab_type": "text",
    "id": "P-5stLu-WUbr"
   },
   "source": [
    "### Lesson Guide\n",
    "\n",
    "#### Decomposition\n",
    "- [Time Series Decomposition](#A)\n",
    "- [Decompose a Time Series](#B)\n",
    "- [Plotting the Residuals and the ACF and PACF of the Residuals](#C)\n",
    "- [Independent Practice](#D)\n",
    "----"
   ]
  },
  {
   "cell_type": "markdown",
   "metadata": {
    "colab_type": "text",
    "id": "zMi6VNaIWUbs"
   },
   "source": [
    "<h2><a id = \"A\">Time Series Decomposition</a></h2>"
   ]
  },
  {
   "cell_type": "markdown",
   "metadata": {
    "colab_type": "text",
    "id": "ufxIF8y0WUbs"
   },
   "source": [
    "Splitting a time series into several components is useful for both understanding the data and diagnosing the appropriate forecasting model. Each of these components will represent an underlying pattern. \n",
    "\n",
    "- **Trend**: A trend exists when there is a long-term increase or decrease in the data. It does not have to be linear. Sometimes, we will refer to a trend “changing direction” when, for example, it might go from an increasing trend to a decreasing trend.\n",
    "\n",
    "- **Seasonal**: A seasonal pattern exists when a series is influenced by seasonal factors (e.g., the quarter of the year, the month, or day of the week). Seasonality is always of a fixed and known period.\n",
    "\n",
    "- **Residual**: The leftover or error component."
   ]
  },
  {
   "cell_type": "markdown",
   "metadata": {
    "colab_type": "text",
    "id": "31DGgWFjWUbs"
   },
   "source": [
    "### Guided Practice"
   ]
  },
  {
   "cell_type": "markdown",
   "metadata": {
    "colab_type": "text",
    "id": "F0UdPzUyWUbt"
   },
   "source": [
    "We are going to play around with some bus data from Portland, Oregon. Load in the data set below and check it out."
   ]
  },
  {
   "cell_type": "code",
   "execution_count": 90,
   "metadata": {
    "colab": {},
    "colab_type": "code",
    "id": "3Vz1zQ8MWUbt",
    "outputId": "a7274a1d-f54f-4bdd-f30a-94b3b8a43db2",
    "scrolled": true
   },
   "outputs": [
    {
     "data": {
      "text/html": [
       "<div>\n",
       "<style scoped>\n",
       "    .dataframe tbody tr th:only-of-type {\n",
       "        vertical-align: middle;\n",
       "    }\n",
       "\n",
       "    .dataframe tbody tr th {\n",
       "        vertical-align: top;\n",
       "    }\n",
       "\n",
       "    .dataframe thead th {\n",
       "        text-align: right;\n",
       "    }\n",
       "</style>\n",
       "<table border=\"1\" class=\"dataframe\">\n",
       "  <thead>\n",
       "    <tr style=\"text-align: right;\">\n",
       "      <th></th>\n",
       "      <th>Month</th>\n",
       "      <th>Portland Oregon average monthly bus ridership (/100) January 1973 through June 1982, n=114</th>\n",
       "    </tr>\n",
       "  </thead>\n",
       "  <tbody>\n",
       "    <tr>\n",
       "      <th>0</th>\n",
       "      <td>1960-01</td>\n",
       "      <td>648</td>\n",
       "    </tr>\n",
       "    <tr>\n",
       "      <th>1</th>\n",
       "      <td>1960-02</td>\n",
       "      <td>646</td>\n",
       "    </tr>\n",
       "    <tr>\n",
       "      <th>2</th>\n",
       "      <td>1960-03</td>\n",
       "      <td>639</td>\n",
       "    </tr>\n",
       "    <tr>\n",
       "      <th>3</th>\n",
       "      <td>1960-04</td>\n",
       "      <td>654</td>\n",
       "    </tr>\n",
       "    <tr>\n",
       "      <th>4</th>\n",
       "      <td>1960-05</td>\n",
       "      <td>630</td>\n",
       "    </tr>\n",
       "  </tbody>\n",
       "</table>\n",
       "</div>"
      ],
      "text/plain": [
       "     Month  \\\n",
       "0  1960-01   \n",
       "1  1960-02   \n",
       "2  1960-03   \n",
       "3  1960-04   \n",
       "4  1960-05   \n",
       "\n",
       "  Portland Oregon average monthly bus ridership (/100) January 1973 through June 1982, n=114  \n",
       "0                                                648                                          \n",
       "1                                                646                                          \n",
       "2                                                639                                          \n",
       "3                                                654                                          \n",
       "4                                                630                                          "
      ]
     },
     "execution_count": 90,
     "metadata": {},
     "output_type": "execute_result"
    }
   ],
   "source": [
    "import pandas as pd\n",
    "import matplotlib.pyplot as plt\n",
    "import seaborn as sns\n",
    "import numpy as np\n",
    "import datetime\n",
    "from dateutil.relativedelta import *\n",
    "%matplotlib inline\n",
    "\n",
    "bus = pd.read_csv('./data/bus.csv')\n",
    "bus.head()"
   ]
  },
  {
   "cell_type": "code",
   "execution_count": 91,
   "metadata": {
    "colab": {},
    "colab_type": "code",
    "id": "9fSTqYbgWUbx",
    "outputId": "1a5055e7-17c4-4560-930b-89fdc97363fd"
   },
   "outputs": [
    {
     "data": {
      "text/html": [
       "<div>\n",
       "<style scoped>\n",
       "    .dataframe tbody tr th:only-of-type {\n",
       "        vertical-align: middle;\n",
       "    }\n",
       "\n",
       "    .dataframe tbody tr th {\n",
       "        vertical-align: top;\n",
       "    }\n",
       "\n",
       "    .dataframe thead th {\n",
       "        text-align: right;\n",
       "    }\n",
       "</style>\n",
       "<table border=\"1\" class=\"dataframe\">\n",
       "  <thead>\n",
       "    <tr style=\"text-align: right;\">\n",
       "      <th></th>\n",
       "      <th>Month</th>\n",
       "      <th>Portland Oregon average monthly bus ridership (/100) January 1973 through June 1982, n=114</th>\n",
       "    </tr>\n",
       "  </thead>\n",
       "  <tbody>\n",
       "    <tr>\n",
       "      <th>111</th>\n",
       "      <td>1969-04</td>\n",
       "      <td>1432</td>\n",
       "    </tr>\n",
       "    <tr>\n",
       "      <th>112</th>\n",
       "      <td>1969-05</td>\n",
       "      <td>1394</td>\n",
       "    </tr>\n",
       "    <tr>\n",
       "      <th>113</th>\n",
       "      <td>1969-06</td>\n",
       "      <td>1327</td>\n",
       "    </tr>\n",
       "    <tr>\n",
       "      <th>114</th>\n",
       "      <td>NaN</td>\n",
       "      <td>NaN</td>\n",
       "    </tr>\n",
       "    <tr>\n",
       "      <th>115</th>\n",
       "      <td>Portland Oregon average monthly bus ridership ...</td>\n",
       "      <td>n=114</td>\n",
       "    </tr>\n",
       "  </tbody>\n",
       "</table>\n",
       "</div>"
      ],
      "text/plain": [
       "                                                 Month  \\\n",
       "111                                            1969-04   \n",
       "112                                            1969-05   \n",
       "113                                            1969-06   \n",
       "114                                                NaN   \n",
       "115  Portland Oregon average monthly bus ridership ...   \n",
       "\n",
       "    Portland Oregon average monthly bus ridership (/100) January 1973 through June 1982, n=114  \n",
       "111                                               1432                                          \n",
       "112                                               1394                                          \n",
       "113                                               1327                                          \n",
       "114                                                NaN                                          \n",
       "115                                              n=114                                          "
      ]
     },
     "execution_count": 91,
     "metadata": {},
     "output_type": "execute_result"
    }
   ],
   "source": [
    "bus.tail()"
   ]
  },
  {
   "cell_type": "markdown",
   "metadata": {
    "colab_type": "text",
    "id": "Rn7X2WsTWUb0"
   },
   "source": [
    "We'll need to clean this data a little. Let's simplify the names of the columns. There are also a couple of bad rows at the end of the file. We'll get rid of those. Additionally, we need to make the `riders` column an integer. "
   ]
  },
  {
   "cell_type": "code",
   "execution_count": 92,
   "metadata": {
    "colab": {},
    "colab_type": "code",
    "id": "xJj7keK9WUb0",
    "outputId": "64fca5e8-96ab-4aa3-ee88-a0a8df891a7e"
   },
   "outputs": [
    {
     "data": {
      "text/html": [
       "<div>\n",
       "<style scoped>\n",
       "    .dataframe tbody tr th:only-of-type {\n",
       "        vertical-align: middle;\n",
       "    }\n",
       "\n",
       "    .dataframe tbody tr th {\n",
       "        vertical-align: top;\n",
       "    }\n",
       "\n",
       "    .dataframe thead th {\n",
       "        text-align: right;\n",
       "    }\n",
       "</style>\n",
       "<table border=\"1\" class=\"dataframe\">\n",
       "  <thead>\n",
       "    <tr style=\"text-align: right;\">\n",
       "      <th></th>\n",
       "      <th>index</th>\n",
       "      <th>riders</th>\n",
       "    </tr>\n",
       "  </thead>\n",
       "  <tbody>\n",
       "    <tr>\n",
       "      <th>0</th>\n",
       "      <td>1960-01</td>\n",
       "      <td>648</td>\n",
       "    </tr>\n",
       "    <tr>\n",
       "      <th>1</th>\n",
       "      <td>1960-02</td>\n",
       "      <td>646</td>\n",
       "    </tr>\n",
       "    <tr>\n",
       "      <th>2</th>\n",
       "      <td>1960-03</td>\n",
       "      <td>639</td>\n",
       "    </tr>\n",
       "    <tr>\n",
       "      <th>3</th>\n",
       "      <td>1960-04</td>\n",
       "      <td>654</td>\n",
       "    </tr>\n",
       "    <tr>\n",
       "      <th>4</th>\n",
       "      <td>1960-05</td>\n",
       "      <td>630</td>\n",
       "    </tr>\n",
       "    <tr>\n",
       "      <th>...</th>\n",
       "      <td>...</td>\n",
       "      <td>...</td>\n",
       "    </tr>\n",
       "    <tr>\n",
       "      <th>111</th>\n",
       "      <td>1969-04</td>\n",
       "      <td>1432</td>\n",
       "    </tr>\n",
       "    <tr>\n",
       "      <th>112</th>\n",
       "      <td>1969-05</td>\n",
       "      <td>1394</td>\n",
       "    </tr>\n",
       "    <tr>\n",
       "      <th>113</th>\n",
       "      <td>1969-06</td>\n",
       "      <td>1327</td>\n",
       "    </tr>\n",
       "    <tr>\n",
       "      <th>114</th>\n",
       "      <td>NaN</td>\n",
       "      <td>NaN</td>\n",
       "    </tr>\n",
       "    <tr>\n",
       "      <th>115</th>\n",
       "      <td>Portland Oregon average monthly bus ridership ...</td>\n",
       "      <td>n=114</td>\n",
       "    </tr>\n",
       "  </tbody>\n",
       "</table>\n",
       "<p>116 rows × 2 columns</p>\n",
       "</div>"
      ],
      "text/plain": [
       "                                                 index  riders\n",
       "0                                              1960-01     648\n",
       "1                                              1960-02     646\n",
       "2                                              1960-03     639\n",
       "3                                              1960-04     654\n",
       "4                                              1960-05     630\n",
       "..                                                 ...     ...\n",
       "111                                            1969-04    1432\n",
       "112                                            1969-05    1394\n",
       "113                                            1969-06    1327\n",
       "114                                                NaN     NaN\n",
       "115  Portland Oregon average monthly bus ridership ...   n=114\n",
       "\n",
       "[116 rows x 2 columns]"
      ]
     },
     "execution_count": 92,
     "metadata": {},
     "output_type": "execute_result"
    }
   ],
   "source": [
    "bus.columns = ['index', 'riders']\n",
    "bus"
   ]
  },
  {
   "cell_type": "code",
   "execution_count": 93,
   "metadata": {},
   "outputs": [
    {
     "data": {
      "text/plain": [
       "index     1\n",
       "riders    1\n",
       "dtype: int64"
      ]
     },
     "execution_count": 93,
     "metadata": {},
     "output_type": "execute_result"
    }
   ],
   "source": [
    "bus.isnull().sum()"
   ]
  },
  {
   "cell_type": "code",
   "execution_count": 94,
   "metadata": {},
   "outputs": [],
   "source": [
    "bus.dropna(inplace=True)"
   ]
  },
  {
   "cell_type": "code",
   "execution_count": 95,
   "metadata": {},
   "outputs": [],
   "source": [
    "bus.drop(bus.index[114], inplace=True)"
   ]
  },
  {
   "cell_type": "code",
   "execution_count": 96,
   "metadata": {},
   "outputs": [
    {
     "data": {
      "text/html": [
       "<div>\n",
       "<style scoped>\n",
       "    .dataframe tbody tr th:only-of-type {\n",
       "        vertical-align: middle;\n",
       "    }\n",
       "\n",
       "    .dataframe tbody tr th {\n",
       "        vertical-align: top;\n",
       "    }\n",
       "\n",
       "    .dataframe thead th {\n",
       "        text-align: right;\n",
       "    }\n",
       "</style>\n",
       "<table border=\"1\" class=\"dataframe\">\n",
       "  <thead>\n",
       "    <tr style=\"text-align: right;\">\n",
       "      <th></th>\n",
       "      <th>index</th>\n",
       "      <th>riders</th>\n",
       "    </tr>\n",
       "  </thead>\n",
       "  <tbody>\n",
       "    <tr>\n",
       "      <th>109</th>\n",
       "      <td>1969-02</td>\n",
       "      <td>1425</td>\n",
       "    </tr>\n",
       "    <tr>\n",
       "      <th>110</th>\n",
       "      <td>1969-03</td>\n",
       "      <td>1419</td>\n",
       "    </tr>\n",
       "    <tr>\n",
       "      <th>111</th>\n",
       "      <td>1969-04</td>\n",
       "      <td>1432</td>\n",
       "    </tr>\n",
       "    <tr>\n",
       "      <th>112</th>\n",
       "      <td>1969-05</td>\n",
       "      <td>1394</td>\n",
       "    </tr>\n",
       "    <tr>\n",
       "      <th>113</th>\n",
       "      <td>1969-06</td>\n",
       "      <td>1327</td>\n",
       "    </tr>\n",
       "  </tbody>\n",
       "</table>\n",
       "</div>"
      ],
      "text/plain": [
       "       index riders\n",
       "109  1969-02   1425\n",
       "110  1969-03   1419\n",
       "111  1969-04   1432\n",
       "112  1969-05   1394\n",
       "113  1969-06   1327"
      ]
     },
     "execution_count": 96,
     "metadata": {},
     "output_type": "execute_result"
    }
   ],
   "source": [
    "bus.tail()"
   ]
  },
  {
   "cell_type": "markdown",
   "metadata": {
    "colab_type": "text",
    "id": "fca-JXPLWUb2"
   },
   "source": [
    "We're going to create an artificial date index using the `relativedelta()` function, as shown below. We will simply start at `1973-01-01` and iterate up one month at a time."
   ]
  },
  {
   "cell_type": "code",
   "execution_count": 97,
   "metadata": {
    "colab": {},
    "colab_type": "code",
    "id": "qGdQnTTiWUb3",
    "outputId": "3d4b1509-cfd7-441b-f70c-8cbe90a802d5"
   },
   "outputs": [
    {
     "data": {
      "text/plain": [
       "[datetime.datetime(1973, 1, 1, 0, 0),\n",
       " datetime.datetime(1973, 2, 1, 0, 0),\n",
       " datetime.datetime(1973, 3, 1, 0, 0),\n",
       " datetime.datetime(1973, 4, 1, 0, 0),\n",
       " datetime.datetime(1973, 5, 1, 0, 0),\n",
       " datetime.datetime(1973, 6, 1, 0, 0),\n",
       " datetime.datetime(1973, 7, 1, 0, 0),\n",
       " datetime.datetime(1973, 8, 1, 0, 0),\n",
       " datetime.datetime(1973, 9, 1, 0, 0),\n",
       " datetime.datetime(1973, 10, 1, 0, 0),\n",
       " datetime.datetime(1973, 11, 1, 0, 0),\n",
       " datetime.datetime(1973, 12, 1, 0, 0),\n",
       " datetime.datetime(1974, 1, 1, 0, 0),\n",
       " datetime.datetime(1974, 2, 1, 0, 0),\n",
       " datetime.datetime(1974, 3, 1, 0, 0),\n",
       " datetime.datetime(1974, 4, 1, 0, 0),\n",
       " datetime.datetime(1974, 5, 1, 0, 0),\n",
       " datetime.datetime(1974, 6, 1, 0, 0),\n",
       " datetime.datetime(1974, 7, 1, 0, 0),\n",
       " datetime.datetime(1974, 8, 1, 0, 0),\n",
       " datetime.datetime(1974, 9, 1, 0, 0),\n",
       " datetime.datetime(1974, 10, 1, 0, 0),\n",
       " datetime.datetime(1974, 11, 1, 0, 0),\n",
       " datetime.datetime(1974, 12, 1, 0, 0),\n",
       " datetime.datetime(1975, 1, 1, 0, 0),\n",
       " datetime.datetime(1975, 2, 1, 0, 0),\n",
       " datetime.datetime(1975, 3, 1, 0, 0),\n",
       " datetime.datetime(1975, 4, 1, 0, 0),\n",
       " datetime.datetime(1975, 5, 1, 0, 0),\n",
       " datetime.datetime(1975, 6, 1, 0, 0),\n",
       " datetime.datetime(1975, 7, 1, 0, 0),\n",
       " datetime.datetime(1975, 8, 1, 0, 0),\n",
       " datetime.datetime(1975, 9, 1, 0, 0),\n",
       " datetime.datetime(1975, 10, 1, 0, 0),\n",
       " datetime.datetime(1975, 11, 1, 0, 0),\n",
       " datetime.datetime(1975, 12, 1, 0, 0),\n",
       " datetime.datetime(1976, 1, 1, 0, 0),\n",
       " datetime.datetime(1976, 2, 1, 0, 0),\n",
       " datetime.datetime(1976, 3, 1, 0, 0),\n",
       " datetime.datetime(1976, 4, 1, 0, 0),\n",
       " datetime.datetime(1976, 5, 1, 0, 0),\n",
       " datetime.datetime(1976, 6, 1, 0, 0),\n",
       " datetime.datetime(1976, 7, 1, 0, 0),\n",
       " datetime.datetime(1976, 8, 1, 0, 0),\n",
       " datetime.datetime(1976, 9, 1, 0, 0),\n",
       " datetime.datetime(1976, 10, 1, 0, 0),\n",
       " datetime.datetime(1976, 11, 1, 0, 0),\n",
       " datetime.datetime(1976, 12, 1, 0, 0),\n",
       " datetime.datetime(1977, 1, 1, 0, 0),\n",
       " datetime.datetime(1977, 2, 1, 0, 0),\n",
       " datetime.datetime(1977, 3, 1, 0, 0),\n",
       " datetime.datetime(1977, 4, 1, 0, 0),\n",
       " datetime.datetime(1977, 5, 1, 0, 0),\n",
       " datetime.datetime(1977, 6, 1, 0, 0),\n",
       " datetime.datetime(1977, 7, 1, 0, 0),\n",
       " datetime.datetime(1977, 8, 1, 0, 0),\n",
       " datetime.datetime(1977, 9, 1, 0, 0),\n",
       " datetime.datetime(1977, 10, 1, 0, 0),\n",
       " datetime.datetime(1977, 11, 1, 0, 0),\n",
       " datetime.datetime(1977, 12, 1, 0, 0),\n",
       " datetime.datetime(1978, 1, 1, 0, 0),\n",
       " datetime.datetime(1978, 2, 1, 0, 0),\n",
       " datetime.datetime(1978, 3, 1, 0, 0),\n",
       " datetime.datetime(1978, 4, 1, 0, 0),\n",
       " datetime.datetime(1978, 5, 1, 0, 0),\n",
       " datetime.datetime(1978, 6, 1, 0, 0),\n",
       " datetime.datetime(1978, 7, 1, 0, 0),\n",
       " datetime.datetime(1978, 8, 1, 0, 0),\n",
       " datetime.datetime(1978, 9, 1, 0, 0),\n",
       " datetime.datetime(1978, 10, 1, 0, 0),\n",
       " datetime.datetime(1978, 11, 1, 0, 0),\n",
       " datetime.datetime(1978, 12, 1, 0, 0),\n",
       " datetime.datetime(1979, 1, 1, 0, 0),\n",
       " datetime.datetime(1979, 2, 1, 0, 0),\n",
       " datetime.datetime(1979, 3, 1, 0, 0),\n",
       " datetime.datetime(1979, 4, 1, 0, 0),\n",
       " datetime.datetime(1979, 5, 1, 0, 0),\n",
       " datetime.datetime(1979, 6, 1, 0, 0),\n",
       " datetime.datetime(1979, 7, 1, 0, 0),\n",
       " datetime.datetime(1979, 8, 1, 0, 0),\n",
       " datetime.datetime(1979, 9, 1, 0, 0),\n",
       " datetime.datetime(1979, 10, 1, 0, 0),\n",
       " datetime.datetime(1979, 11, 1, 0, 0),\n",
       " datetime.datetime(1979, 12, 1, 0, 0),\n",
       " datetime.datetime(1980, 1, 1, 0, 0),\n",
       " datetime.datetime(1980, 2, 1, 0, 0),\n",
       " datetime.datetime(1980, 3, 1, 0, 0),\n",
       " datetime.datetime(1980, 4, 1, 0, 0),\n",
       " datetime.datetime(1980, 5, 1, 0, 0),\n",
       " datetime.datetime(1980, 6, 1, 0, 0),\n",
       " datetime.datetime(1980, 7, 1, 0, 0),\n",
       " datetime.datetime(1980, 8, 1, 0, 0),\n",
       " datetime.datetime(1980, 9, 1, 0, 0),\n",
       " datetime.datetime(1980, 10, 1, 0, 0),\n",
       " datetime.datetime(1980, 11, 1, 0, 0),\n",
       " datetime.datetime(1980, 12, 1, 0, 0),\n",
       " datetime.datetime(1981, 1, 1, 0, 0),\n",
       " datetime.datetime(1981, 2, 1, 0, 0),\n",
       " datetime.datetime(1981, 3, 1, 0, 0),\n",
       " datetime.datetime(1981, 4, 1, 0, 0),\n",
       " datetime.datetime(1981, 5, 1, 0, 0),\n",
       " datetime.datetime(1981, 6, 1, 0, 0),\n",
       " datetime.datetime(1981, 7, 1, 0, 0),\n",
       " datetime.datetime(1981, 8, 1, 0, 0),\n",
       " datetime.datetime(1981, 9, 1, 0, 0),\n",
       " datetime.datetime(1981, 10, 1, 0, 0),\n",
       " datetime.datetime(1981, 11, 1, 0, 0),\n",
       " datetime.datetime(1981, 12, 1, 0, 0),\n",
       " datetime.datetime(1982, 1, 1, 0, 0),\n",
       " datetime.datetime(1982, 2, 1, 0, 0),\n",
       " datetime.datetime(1982, 3, 1, 0, 0),\n",
       " datetime.datetime(1982, 4, 1, 0, 0),\n",
       " datetime.datetime(1982, 5, 1, 0, 0),\n",
       " datetime.datetime(1982, 6, 1, 0, 0)]"
      ]
     },
     "execution_count": 97,
     "metadata": {},
     "output_type": "execute_result"
    }
   ],
   "source": [
    "start = datetime.datetime.strptime('1973-01-01', '%Y-%m-%d')\n",
    "date_list = [start + relativedelta(months = x) for x in range(0,114)]\n",
    "date_list"
   ]
  },
  {
   "cell_type": "code",
   "execution_count": 98,
   "metadata": {},
   "outputs": [
    {
     "data": {
      "text/html": [
       "<div>\n",
       "<style scoped>\n",
       "    .dataframe tbody tr th:only-of-type {\n",
       "        vertical-align: middle;\n",
       "    }\n",
       "\n",
       "    .dataframe tbody tr th {\n",
       "        vertical-align: top;\n",
       "    }\n",
       "\n",
       "    .dataframe thead th {\n",
       "        text-align: right;\n",
       "    }\n",
       "</style>\n",
       "<table border=\"1\" class=\"dataframe\">\n",
       "  <thead>\n",
       "    <tr style=\"text-align: right;\">\n",
       "      <th></th>\n",
       "      <th>riders</th>\n",
       "    </tr>\n",
       "    <tr>\n",
       "      <th>index</th>\n",
       "      <th></th>\n",
       "    </tr>\n",
       "  </thead>\n",
       "  <tbody>\n",
       "    <tr>\n",
       "      <th>1973-01-01</th>\n",
       "      <td>648</td>\n",
       "    </tr>\n",
       "    <tr>\n",
       "      <th>1973-02-01</th>\n",
       "      <td>646</td>\n",
       "    </tr>\n",
       "    <tr>\n",
       "      <th>1973-03-01</th>\n",
       "      <td>639</td>\n",
       "    </tr>\n",
       "    <tr>\n",
       "      <th>1973-04-01</th>\n",
       "      <td>654</td>\n",
       "    </tr>\n",
       "    <tr>\n",
       "      <th>1973-05-01</th>\n",
       "      <td>630</td>\n",
       "    </tr>\n",
       "  </tbody>\n",
       "</table>\n",
       "</div>"
      ],
      "text/plain": [
       "           riders\n",
       "index            \n",
       "1973-01-01    648\n",
       "1973-02-01    646\n",
       "1973-03-01    639\n",
       "1973-04-01    654\n",
       "1973-05-01    630"
      ]
     },
     "execution_count": 98,
     "metadata": {},
     "output_type": "execute_result"
    }
   ],
   "source": [
    "bus['index'] = date_list\n",
    "bus.set_index('index', inplace=True)\n",
    "bus.head()"
   ]
  },
  {
   "cell_type": "markdown",
   "metadata": {
    "colab_type": "text",
    "id": "DAGWs4X4WUb5"
   },
   "source": [
    "### StatsModels Time Series Tools "
   ]
  },
  {
   "cell_type": "markdown",
   "metadata": {
    "colab_type": "text",
    "id": "vYMgk_HBWUb5"
   },
   "source": [
    "The Python StatsModels library offers a wide variety of reliable time series analysis tools. We'll start off by loading the autocorrelation and partial autocorrelation functions, as well as a function for decomposing time series."
   ]
  },
  {
   "cell_type": "code",
   "execution_count": 99,
   "metadata": {
    "colab": {},
    "colab_type": "code",
    "id": "Zc6bHt2FWUb5"
   },
   "outputs": [],
   "source": [
    "from statsmodels.tsa.seasonal import seasonal_decompose"
   ]
  },
  {
   "cell_type": "markdown",
   "metadata": {
    "colab_type": "text",
    "id": "WevNBznmWUb8"
   },
   "source": [
    "### Plot the raw data."
   ]
  },
  {
   "cell_type": "markdown",
   "metadata": {
    "colab_type": "text",
    "id": "zJd1d9ToWUb8"
   },
   "source": [
    "We can look at the raw data first. Let's plot the time series."
   ]
  },
  {
   "cell_type": "code",
   "execution_count": 100,
   "metadata": {
    "colab": {},
    "colab_type": "code",
    "id": "bPhCHNu_WUb9",
    "outputId": "7672d782-7bdf-49ca-8fd9-abfbc3005d9e"
   },
   "outputs": [
    {
     "data": {
      "text/plain": [
       "riders    int64\n",
       "dtype: object"
      ]
     },
     "execution_count": 100,
     "metadata": {},
     "output_type": "execute_result"
    }
   ],
   "source": [
    "bus['riders'] = bus.riders.astype('int')\n",
    "bus.dtypes"
   ]
  },
  {
   "cell_type": "code",
   "execution_count": 101,
   "metadata": {},
   "outputs": [
    {
     "data": {
      "text/plain": [
       "<matplotlib.axes._subplots.AxesSubplot at 0x7fccb4ec5400>"
      ]
     },
     "execution_count": 101,
     "metadata": {},
     "output_type": "execute_result"
    },
    {
     "data": {
      "image/png": "[encoded data removed]",
      "text/plain": [
       "<Figure size 432x288 with 1 Axes>"
      ]
     },
     "metadata": {
      "needs_background": "light"
     },
     "output_type": "display_data"
    }
   ],
   "source": [
    "bus.riders.plot()"
   ]
  },
  {
   "cell_type": "markdown",
   "metadata": {
    "colab_type": "text",
    "id": "4A2i4JLbWUb_"
   },
   "source": [
    "<h2><a id = \"B\">Decompose the time series and plot using the `.seasonal_decompose()` function.</a></h2>"
   ]
  },
  {
   "cell_type": "markdown",
   "metadata": {
    "colab_type": "text",
    "id": "tFb_VCsQWUb_"
   },
   "source": [
    "Using the `seasonal_decompose()` function, we can break the time series into its constituent parts.\n",
    "\n",
    "Use the function on the `riders` data with a frequency of `12`, then plot the data. We're using a frequency of 12 because the data are monthly.\n",
    "\n",
    "The decomposition object from `seasonal_decompose()` has a `.plot()` function, like with Pandas DataFrames."
   ]
  },
  {
   "cell_type": "code",
   "execution_count": 102,
   "metadata": {
    "colab": {},
    "colab_type": "code",
    "id": "p7HAf119WUcA",
    "outputId": "3457d792-f472-49df-f470-7936bbfa5acc"
   },
   "outputs": [
    {
     "data": {
      "text/plain": [
       "<Figure size 432x288 with 0 Axes>"
      ]
     },
     "metadata": {},
     "output_type": "display_data"
    },
    {
     "data": {
      "image/png": "[encoded data removed]",
      "text/plain": [
       "<Figure size 936x720 with 4 Axes>"
      ]
     },
     "metadata": {
      "needs_background": "light"
     },
     "output_type": "display_data"
    }
   ],
   "source": [
    "decomposistion = seasonal_decompose(bus.riders)\n",
    "fig = plt.figure()\n",
    "fig = decomposistion.plot()\n",
    "fig.set_size_inches(13,10)"
   ]
  },
  {
   "cell_type": "code",
   "execution_count": null,
   "metadata": {
    "colab": {},
    "colab_type": "code",
    "id": "UHHZKbhxWUcC",
    "outputId": "91d69e10-0878-4263-bffe-59f1a055b2ad"
   },
   "outputs": [],
   "source": []
  },
  {
   "cell_type": "markdown",
   "metadata": {
    "colab_type": "text",
    "id": "Z5t45wYjWUcE"
   },
   "source": [
    "### Plot a single component of the decomposition plot."
   ]
  },
  {
   "cell_type": "markdown",
   "metadata": {
    "colab_type": "text",
    "id": "hUGH5qvNWUcF"
   },
   "source": [
    "We can pull out just one component of the decomposition plot."
   ]
  },
  {
   "cell_type": "code",
   "execution_count": 103,
   "metadata": {
    "colab": {},
    "colab_type": "code",
    "id": "SimzsC5CWUcF",
    "outputId": "da50841c-cce4-4477-b819-c711c84d46a7"
   },
   "outputs": [
    {
     "data": {
      "text/plain": [
       "<matplotlib.axes._subplots.AxesSubplot at 0x7fccb45a5b20>"
      ]
     },
     "execution_count": 103,
     "metadata": {},
     "output_type": "execute_result"
    },
    {
     "data": {
      "image/png": "[encoded data removed]",
      "text/plain": [
       "<Figure size 432x288 with 1 Axes>"
      ]
     },
     "metadata": {
      "needs_background": "light"
     },
     "output_type": "display_data"
    }
   ],
   "source": [
    "trend = decomposistion.trend\n",
    "trend.plot()"
   ]
  },
  {
   "cell_type": "code",
   "execution_count": null,
   "metadata": {
    "colab": {},
    "colab_type": "code",
    "id": "NbEraILSWUcH",
    "outputId": "c1cb8e41-874d-4a3d-c7e6-2c0d352e8ed7"
   },
   "outputs": [],
   "source": []
  },
  {
   "cell_type": "markdown",
   "metadata": {
    "colab_type": "text",
    "id": "CUPri1mrWUcK"
   },
   "source": [
    "<h2><a id = \"C\">Examining the residuals and their ACF and PACF.</a></h2>"
   ]
  },
  {
   "cell_type": "markdown",
   "metadata": {
    "colab_type": "text",
    "id": "GTm08n50WUcK"
   },
   "source": [
    "Let's examine the residuals of our data."
   ]
  },
  {
   "cell_type": "code",
   "execution_count": 104,
   "metadata": {
    "colab": {},
    "colab_type": "code",
    "id": "RmRu01ekWUcK",
    "outputId": "b3cc8b6e-7db0-4fc3-ea1e-96c6a72beae6"
   },
   "outputs": [],
   "source": [
    "from statsmodels.graphics.tsaplots import plot_acf, plot_pacf"
   ]
  },
  {
   "cell_type": "code",
   "execution_count": 105,
   "metadata": {
    "colab": {},
    "colab_type": "code",
    "id": "iQOGdzWyWUcM",
    "outputId": "f2a328ee-cf50-4f4c-dcb6-f4e3d37a2d2c"
   },
   "outputs": [],
   "source": [
    "residuals = decomposistion.resid"
   ]
  },
  {
   "cell_type": "code",
   "execution_count": 106,
   "metadata": {
    "colab": {},
    "colab_type": "code",
    "id": "39tcUnaEWUcO",
    "outputId": "66b97ddc-26a3-4403-83b8-5b7a296f785a"
   },
   "outputs": [
    {
     "data": {
      "image/png": "[encoded data removed]",
      "text/plain": [
       "<Figure size 432x288 with 1 Axes>"
      ]
     },
     "execution_count": 106,
     "metadata": {},
     "output_type": "execute_result"
    },
    {
     "data": {
      "image/png": "[encoded data removed]",
      "text/plain": [
       "<Figure size 432x288 with 1 Axes>"
      ]
     },
     "metadata": {
      "needs_background": "light"
     },
     "output_type": "display_data"
    }
   ],
   "source": [
    "plot_acf(residuals, lags=30)"
   ]
  },
  {
   "cell_type": "markdown",
   "metadata": {
    "colab_type": "text",
    "id": "ID2wuZXqWUcS"
   },
   "source": [
    "We notice that the residuals of our time series don't have significant autocorrelation. This is because the trend and seasonal components have been taken out and adjusted for. "
   ]
  },
  {
   "cell_type": "markdown",
   "metadata": {
    "colab_type": "text",
    "id": "i7syPiQ3WUcS"
   },
   "source": [
    "# Recap"
   ]
  },
  {
   "cell_type": "markdown",
   "metadata": {
    "colab_type": "text",
    "id": "UShk1flPWUcS"
   },
   "source": [
    "* Trend is a long-term change in the data. \n",
    "* Seasonality is a pattern of a fixed period that repeats in the data. \n",
    "* Residuals are the error components of the data.\n",
    "* StatsModels contains a `seasonal_decompose()` function that breaks a time series into its components."
   ]
  },
  {
   "cell_type": "markdown",
   "metadata": {
    "colab_type": "text",
    "id": "NZkcvKGlWUcT"
   },
   "source": [
    "<h2><a id=\"D\">Independent Practice</a></h2>"
   ]
  },
  {
   "cell_type": "markdown",
   "metadata": {
    "colab_type": "text",
    "id": "treuheJEWUcU"
   },
   "source": [
    "**Instructor Note:** These are optional and can be assigned as student practice questions outside of class."
   ]
  },
  {
   "cell_type": "markdown",
   "metadata": {
    "colab_type": "text",
    "id": "EH6YaEfqWUcV"
   },
   "source": [
    "### 1) Import the Airline Passengers data set, preprocess the data, and plot the raw time series."
   ]
  },
  {
   "cell_type": "code",
   "execution_count": 107,
   "metadata": {
    "colab": {},
    "colab_type": "code",
    "id": "JgjY6dnQWUcV"
   },
   "outputs": [],
   "source": [
    "import pandas as pd\n",
    "import matplotlib.pyplot as plt\n",
    "import seaborn as sns\n",
    "import numpy as np\n",
    "import datetime\n",
    "from dateutil.relativedelta import *\n",
    "%matplotlib inline"
   ]
  },
  {
   "cell_type": "code",
   "execution_count": 108,
   "metadata": {
    "colab": {},
    "colab_type": "code",
    "id": "736qdISgWUcX"
   },
   "outputs": [],
   "source": [
    "airline = pd.read_csv('./data/airline.csv')"
   ]
  },
  {
   "cell_type": "code",
   "execution_count": 109,
   "metadata": {
    "colab": {},
    "colab_type": "code",
    "id": "EFhojFEwWUcY"
   },
   "outputs": [
    {
     "data": {
      "text/plain": [
       "Month                                                                             0\n",
       "International airline passengers: monthly totals in thousands. Jan 49 ? Dec 60    1\n",
       "dtype: int64"
      ]
     },
     "execution_count": 109,
     "metadata": {},
     "output_type": "execute_result"
    }
   ],
   "source": [
    "airline.isnull().sum()"
   ]
  },
  {
   "cell_type": "code",
   "execution_count": 111,
   "metadata": {},
   "outputs": [],
   "source": [
    "airline.columns = ['Month','Airline Passenger Monthly per 1000']"
   ]
  },
  {
   "cell_type": "code",
   "execution_count": 112,
   "metadata": {
    "colab": {},
    "colab_type": "code",
    "id": "6XHCJIHeWUca"
   },
   "outputs": [],
   "source": [
    "airline = airline.dropna()"
   ]
  },
  {
   "cell_type": "code",
   "execution_count": 113,
   "metadata": {
    "colab": {},
    "colab_type": "code",
    "id": "nbHHgP8sWUcc"
   },
   "outputs": [
    {
     "data": {
      "text/html": [
       "<div>\n",
       "<style scoped>\n",
       "    .dataframe tbody tr th:only-of-type {\n",
       "        vertical-align: middle;\n",
       "    }\n",
       "\n",
       "    .dataframe tbody tr th {\n",
       "        vertical-align: top;\n",
       "    }\n",
       "\n",
       "    .dataframe thead th {\n",
       "        text-align: right;\n",
       "    }\n",
       "</style>\n",
       "<table border=\"1\" class=\"dataframe\">\n",
       "  <thead>\n",
       "    <tr style=\"text-align: right;\">\n",
       "      <th></th>\n",
       "      <th>Month</th>\n",
       "      <th>Airline Passenger Monthly per 1000</th>\n",
       "    </tr>\n",
       "  </thead>\n",
       "  <tbody>\n",
       "    <tr>\n",
       "      <th>0</th>\n",
       "      <td>1949-01</td>\n",
       "      <td>112.0</td>\n",
       "    </tr>\n",
       "    <tr>\n",
       "      <th>1</th>\n",
       "      <td>1949-02</td>\n",
       "      <td>118.0</td>\n",
       "    </tr>\n",
       "    <tr>\n",
       "      <th>2</th>\n",
       "      <td>1949-03</td>\n",
       "      <td>132.0</td>\n",
       "    </tr>\n",
       "    <tr>\n",
       "      <th>3</th>\n",
       "      <td>1949-04</td>\n",
       "      <td>129.0</td>\n",
       "    </tr>\n",
       "    <tr>\n",
       "      <th>4</th>\n",
       "      <td>1949-05</td>\n",
       "      <td>121.0</td>\n",
       "    </tr>\n",
       "    <tr>\n",
       "      <th>...</th>\n",
       "      <td>...</td>\n",
       "      <td>...</td>\n",
       "    </tr>\n",
       "    <tr>\n",
       "      <th>139</th>\n",
       "      <td>1960-08</td>\n",
       "      <td>606.0</td>\n",
       "    </tr>\n",
       "    <tr>\n",
       "      <th>140</th>\n",
       "      <td>1960-09</td>\n",
       "      <td>508.0</td>\n",
       "    </tr>\n",
       "    <tr>\n",
       "      <th>141</th>\n",
       "      <td>1960-10</td>\n",
       "      <td>461.0</td>\n",
       "    </tr>\n",
       "    <tr>\n",
       "      <th>142</th>\n",
       "      <td>1960-11</td>\n",
       "      <td>390.0</td>\n",
       "    </tr>\n",
       "    <tr>\n",
       "      <th>143</th>\n",
       "      <td>1960-12</td>\n",
       "      <td>432.0</td>\n",
       "    </tr>\n",
       "  </tbody>\n",
       "</table>\n",
       "<p>144 rows × 2 columns</p>\n",
       "</div>"
      ],
      "text/plain": [
       "       Month  Airline Passenger Monthly per 1000\n",
       "0    1949-01                               112.0\n",
       "1    1949-02                               118.0\n",
       "2    1949-03                               132.0\n",
       "3    1949-04                               129.0\n",
       "4    1949-05                               121.0\n",
       "..       ...                                 ...\n",
       "139  1960-08                               606.0\n",
       "140  1960-09                               508.0\n",
       "141  1960-10                               461.0\n",
       "142  1960-11                               390.0\n",
       "143  1960-12                               432.0\n",
       "\n",
       "[144 rows x 2 columns]"
      ]
     },
     "execution_count": 113,
     "metadata": {},
     "output_type": "execute_result"
    }
   ],
   "source": [
    "airline"
   ]
  },
  {
   "cell_type": "code",
   "execution_count": 114,
   "metadata": {
    "colab": {},
    "colab_type": "code",
    "id": "eyNVXvVWWUce"
   },
   "outputs": [
    {
     "name": "stderr",
     "output_type": "stream",
     "text": [
      "<ipython-input-114-fc5338fd53d1>:1: SettingWithCopyWarning: \n",
      "A value is trying to be set on a copy of a slice from a DataFrame.\n",
      "Try using .loc[row_indexer,col_indexer] = value instead\n",
      "\n",
      "See the caveats in the documentation: https://pandas.pydata.org/pandas-docs/stable/user_guide/indexing.html#returning-a-view-versus-a-copy\n",
      "  airline['Month'] = pd.to_datetime(airline.Month)\n"
     ]
    }
   ],
   "source": [
    "airline['Month'] = pd.to_datetime(airline.Month)"
   ]
  },
  {
   "cell_type": "code",
   "execution_count": 115,
   "metadata": {
    "colab": {},
    "colab_type": "code",
    "id": "yPXOQ1b7WUch"
   },
   "outputs": [],
   "source": [
    "airline.set_index('Month', inplace=True)"
   ]
  },
  {
   "cell_type": "code",
   "execution_count": 116,
   "metadata": {},
   "outputs": [
    {
     "data": {
      "text/plain": [
       "<matplotlib.axes._subplots.AxesSubplot at 0x7fccb2e11310>"
      ]
     },
     "execution_count": 116,
     "metadata": {},
     "output_type": "execute_result"
    },
    {
     "data": {
      "image/png": "[encoded data removed]",
      "text/plain": [
       "<Figure size 432x288 with 1 Axes>"
      ]
     },
     "metadata": {
      "needs_background": "light"
     },
     "output_type": "display_data"
    }
   ],
   "source": [
    "airline.plot()"
   ]
  },
  {
   "cell_type": "markdown",
   "metadata": {
    "colab_type": "text",
    "id": "ebUR-2BRWUcj"
   },
   "source": [
    "### 2) Decompose the time series and plot using the `.seasonal_decompose()` function."
   ]
  },
  {
   "cell_type": "code",
   "execution_count": 118,
   "metadata": {
    "colab": {},
    "colab_type": "code",
    "id": "C3iaI9sNWUcj"
   },
   "outputs": [
    {
     "data": {
      "text/plain": [
       "<Figure size 432x288 with 0 Axes>"
      ]
     },
     "metadata": {},
     "output_type": "display_data"
    },
    {
     "data": {
      "image/png": "[encoded data removed]",
      "text/plain": [
       "<Figure size 936x720 with 4 Axes>"
      ]
     },
     "metadata": {
      "needs_background": "light"
     },
     "output_type": "display_data"
    }
   ],
   "source": [
    "airline_decomp = seasonal_decompose(airline)\n",
    "fig = plt.figure()\n",
    "fig = airline_decomp.plot()\n",
    "fig.set_size_inches(13,10)"
   ]
  },
  {
   "cell_type": "code",
   "execution_count": null,
   "metadata": {
    "colab": {},
    "colab_type": "code",
    "id": "aUSDYHGzWUcn"
   },
   "outputs": [],
   "source": []
  },
  {
   "cell_type": "code",
   "execution_count": null,
   "metadata": {
    "colab": {},
    "colab_type": "code",
    "id": "hyegwUSKWUcp"
   },
   "outputs": [],
   "source": []
  },
  {
   "cell_type": "code",
   "execution_count": null,
   "metadata": {
    "colab": {},
    "colab_type": "code",
    "id": "gt9TdWsOWUcr"
   },
   "outputs": [],
   "source": []
  },
  {
   "cell_type": "markdown",
   "metadata": {
    "colab_type": "text",
    "id": "hZXjc71QWUct"
   },
   "source": [
    "### 3) Interpret these plots."
   ]
  },
  {
   "cell_type": "code",
   "execution_count": 124,
   "metadata": {
    "colab": {},
    "colab_type": "code",
    "id": "G5NXU7_UWUcu"
   },
   "outputs": [],
   "source": [
    "residuals = airline_decomp.resid"
   ]
  },
  {
   "cell_type": "code",
   "execution_count": 125,
   "metadata": {},
   "outputs": [
    {
     "data": {
      "image/png": "[encoded data removed]",
      "text/plain": [
       "<Figure size 432x288 with 1 Axes>"
      ]
     },
     "execution_count": 125,
     "metadata": {},
     "output_type": "execute_result"
    },
    {
     "data": {
      "image/png": "[encoded data removed]",
      "text/plain": [
       "<Figure size 432x288 with 1 Axes>"
      ]
     },
     "metadata": {
      "needs_background": "light"
     },
     "output_type": "display_data"
    }
   ],
   "source": [
    "plot_acf(residuals, lags=30)"
   ]
  }
 ],
 "metadata": {
  "colab": {
   "name": "04_decomposition.ipynb",
   "provenance": []
  },
  "kernelspec": {
   "display_name": "Python 3",
   "language": "python",
   "name": "python3"
  },
  "language_info": {
   "codemirror_mode": {
    "name": "ipython",
    "version": 3
   },
   "file_extension": ".py",
   "mimetype": "text/x-python",
   "name": "python",
   "nbconvert_exporter": "python",
   "pygments_lexer": "ipython3",
   "version": "3.8.1"
  }
 },
 "nbformat": 4,
 "nbformat_minor": 4
}
