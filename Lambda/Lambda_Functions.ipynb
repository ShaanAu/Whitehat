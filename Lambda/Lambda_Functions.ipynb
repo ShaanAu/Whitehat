{
 "cells": [
  {
   "cell_type": "markdown",
   "metadata": {},
   "source": [
    "## LAMBDA FUNCTIONS ##\n",
    "\n",
    "### A lambda function is a small anonymous function.\n",
    "\n",
    "<i>\"A lambda function can take any number of arguments, but can only have one expression.\"</i> - W3 Schools"
   ]
  },
  {
   "cell_type": "markdown",
   "metadata": {},
   "source": [
    "### How Does It Work?\n",
    "\n",
    "It works the way another function does, except it can also act as an expression"
   ]
  },
  {
   "cell_type": "markdown",
   "metadata": {},
   "source": [
    "### But why would you use lambda instead of creating a normal function?? ###\n",
    "\n",
    "<p1>Well, it is faster, and can be used as a 'throwaway function' meaning if you have little or one-time use for it, you don't need to spend as much time defining it</p1>\n",
    "\n",
    "### For Example "
   ]
  },
  {
   "cell_type": "markdown",
   "metadata": {},
   "source": [
    "### Adding 5 to any number without using lambda"
   ]
  },
  {
   "cell_type": "code",
   "execution_count": 7,
   "metadata": {},
   "outputs": [
    {
     "data": {
      "text/plain": [
       "10"
      ]
     },
     "execution_count": 7,
     "metadata": {},
     "output_type": "execute_result"
    }
   ],
   "source": [
    "\n",
    "def add_5(x):\n",
    "    return x + 5\n",
    "\n",
    "add_5(5)"
   ]
  },
  {
   "cell_type": "markdown",
   "metadata": {},
   "source": [
    "### Adding 5 to any number using lambda ###"
   ]
  },
  {
   "cell_type": "code",
   "execution_count": 9,
   "metadata": {},
   "outputs": [
    {
     "data": {
      "text/plain": [
       "15"
      ]
     },
     "execution_count": 9,
     "metadata": {},
     "output_type": "execute_result"
    }
   ],
   "source": [
    "# Adding 5 using lambda \n",
    "my_lambda_adder = lambda x: x + 5\n",
    "\n",
    "# This takes argument x, adds 5 to the number and returns the value\n",
    "my_lambda_adder(5)\n",
    "\n",
    "# Alternatively, instead of assigning the lambda function to a variable, this can all be done in a single line\n",
    "(lambda x: x + 5)(10)"
   ]
  },
  {
   "cell_type": "markdown",
   "metadata": {},
   "source": [
    "Lambda can be used with any number of arguments, like normal functions"
   ]
  },
  {
   "cell_type": "code",
   "execution_count": 44,
   "metadata": {},
   "outputs": [
    {
     "data": {
      "text/plain": [
       "6"
      ]
     },
     "execution_count": 44,
     "metadata": {},
     "output_type": "execute_result"
    }
   ],
   "source": [
    "# Adding 3 numbers together\n",
    "(lambda x, y, z: x + y + z)(1, 2, 3)"
   ]
  },
  {
   "cell_type": "code",
   "execution_count": 46,
   "metadata": {},
   "outputs": [
    {
     "data": {
      "text/plain": [
       "5.0"
      ]
     },
     "execution_count": 46,
     "metadata": {},
     "output_type": "execute_result"
    }
   ],
   "source": [
    "# Random Formula\n",
    "(lambda x, y, z: 5*(x + y) / z)(1, 2 , 3)"
   ]
  },
  {
   "cell_type": "markdown",
   "metadata": {},
   "source": [
    "## Exercise 1 "
   ]
  },
  {
   "cell_type": "markdown",
   "metadata": {},
   "source": [
    "### 1 - Creating a lambda function which multiplies a number by 5 then adds 20 to it"
   ]
  },
  {
   "cell_type": "code",
   "execution_count": null,
   "metadata": {},
   "outputs": [],
   "source": [
    "# Put your answer here plz, many thanks \n"
   ]
  },
  {
   "cell_type": "markdown",
   "metadata": {},
   "source": [
    "### But do lambda functions only work with numbers?\n",
    "\n",
    "NO!\n",
    "\n",
    "Below I will give an example of how they work in other ways"
   ]
  },
  {
   "cell_type": "code",
   "execution_count": 11,
   "metadata": {},
   "outputs": [
    {
     "data": {
      "text/plain": [
       "'Simple String Plus Lambda'"
      ]
     },
     "execution_count": 11,
     "metadata": {},
     "output_type": "execute_result"
    }
   ],
   "source": [
    "# With Text\n",
    "(lambda x: x + \" Plus Lambda\")(\"Simple String\")"
   ]
  },
  {
   "cell_type": "markdown",
   "metadata": {},
   "source": [
    "## More Relevant Content, How to Use Lambda in Pandas ##"
   ]
  },
  {
   "cell_type": "code",
   "execution_count": 38,
   "metadata": {},
   "outputs": [],
   "source": [
    "# In Pandas\n",
    "import pandas as pd\n",
    "import numpy as np"
   ]
  },
  {
   "cell_type": "code",
   "execution_count": 63,
   "metadata": {},
   "outputs": [],
   "source": [
    "# Creating a random dataframe\n",
    "df = pd.DataFrame(data={'Places': ['London', 'Rome', 'Venice', 'Paris', 'Barcelona'],'Average Rating': np.random.random_integers(1, 10, 5),\n",
    "                        'Population': np.random.random_integers(4000000, 20000000, 5),\n",
    "                        'Votes': np.random.random_integers(2000000, 4000000, 5) })\n",
    "df_copy = df.copy()"
   ]
  },
  {
   "cell_type": "code",
   "execution_count": 64,
   "metadata": {},
   "outputs": [],
   "source": [
    "# Using Lambda to convert all the places to \"City of {Place}\"\n",
    "df_copy['Places'] = df_copy['Places'].apply(lambda x: \"City of \" + x)"
   ]
  },
  {
   "cell_type": "markdown",
   "metadata": {},
   "source": [
    "### Using Lambda to convert the index of the dataframe"
   ]
  },
  {
   "cell_type": "code",
   "execution_count": 65,
   "metadata": {},
   "outputs": [],
   "source": [
    "df_copy.index = map(lambda x: 'City ' + str(x + 1), df_copy.index)"
   ]
  },
  {
   "cell_type": "markdown",
   "metadata": {},
   "source": [
    "1. This gets the index of our dataframe --> df_copy.index\n",
    "2. Adds 1 to the number --> x + 1\n",
    "3. Converts the result to a string --> str(x + 1)\n",
    "4. Adds the string 'City' before it then outputs the result -->  'City ' + str(x + 1)\n",
    "5. All the results are put into a list which is then used as the new index \n"
   ]
  },
  {
   "cell_type": "code",
   "execution_count": 66,
   "metadata": {},
   "outputs": [
    {
     "data": {
      "text/html": [
       "<div>\n",
       "<style scoped>\n",
       "    .dataframe tbody tr th:only-of-type {\n",
       "        vertical-align: middle;\n",
       "    }\n",
       "\n",
       "    .dataframe tbody tr th {\n",
       "        vertical-align: top;\n",
       "    }\n",
       "\n",
       "    .dataframe thead th {\n",
       "        text-align: right;\n",
       "    }\n",
       "</style>\n",
       "<table border=\"1\" class=\"dataframe\">\n",
       "  <thead>\n",
       "    <tr style=\"text-align: right;\">\n",
       "      <th></th>\n",
       "      <th>Places</th>\n",
       "      <th>Average Rating</th>\n",
       "      <th>Population</th>\n",
       "      <th>Votes</th>\n",
       "    </tr>\n",
       "  </thead>\n",
       "  <tbody>\n",
       "    <tr>\n",
       "      <th>City 1</th>\n",
       "      <td>City of London</td>\n",
       "      <td>5</td>\n",
       "      <td>18608865</td>\n",
       "      <td>3326590</td>\n",
       "    </tr>\n",
       "    <tr>\n",
       "      <th>City 2</th>\n",
       "      <td>City of Rome</td>\n",
       "      <td>3</td>\n",
       "      <td>18852517</td>\n",
       "      <td>3093478</td>\n",
       "    </tr>\n",
       "    <tr>\n",
       "      <th>City 3</th>\n",
       "      <td>City of Venice</td>\n",
       "      <td>3</td>\n",
       "      <td>18800115</td>\n",
       "      <td>2869122</td>\n",
       "    </tr>\n",
       "    <tr>\n",
       "      <th>City 4</th>\n",
       "      <td>City of Paris</td>\n",
       "      <td>3</td>\n",
       "      <td>4787050</td>\n",
       "      <td>3195503</td>\n",
       "    </tr>\n",
       "    <tr>\n",
       "      <th>City 5</th>\n",
       "      <td>City of Barcelona</td>\n",
       "      <td>5</td>\n",
       "      <td>10274895</td>\n",
       "      <td>3976333</td>\n",
       "    </tr>\n",
       "  </tbody>\n",
       "</table>\n",
       "</div>"
      ],
      "text/plain": [
       "                   Places  Average Rating  Population    Votes\n",
       "City 1     City of London               5    18608865  3326590\n",
       "City 2       City of Rome               3    18852517  3093478\n",
       "City 3     City of Venice               3    18800115  2869122\n",
       "City 4      City of Paris               3     4787050  3195503\n",
       "City 5  City of Barcelona               5    10274895  3976333"
      ]
     },
     "execution_count": 66,
     "metadata": {},
     "output_type": "execute_result"
    }
   ],
   "source": [
    "df_copy"
   ]
  },
  {
   "cell_type": "markdown",
   "metadata": {},
   "source": [
    " ### What is map?\n",
    "\n",
    "map(func, iterable) uses a function and applies it to an iterable, this can be a list, a string, a dictionary etc."
   ]
  },
  {
   "cell_type": "markdown",
   "metadata": {},
   "source": [
    "### Using Lambda to change values based on a criteria"
   ]
  },
  {
   "cell_type": "code",
   "execution_count": 68,
   "metadata": {},
   "outputs": [
    {
     "data": {
      "text/html": [
       "<div>\n",
       "<style scoped>\n",
       "    .dataframe tbody tr th:only-of-type {\n",
       "        vertical-align: middle;\n",
       "    }\n",
       "\n",
       "    .dataframe tbody tr th {\n",
       "        vertical-align: top;\n",
       "    }\n",
       "\n",
       "    .dataframe thead th {\n",
       "        text-align: right;\n",
       "    }\n",
       "</style>\n",
       "<table border=\"1\" class=\"dataframe\">\n",
       "  <thead>\n",
       "    <tr style=\"text-align: right;\">\n",
       "      <th></th>\n",
       "      <th>Places</th>\n",
       "      <th>Average Rating</th>\n",
       "      <th>Population</th>\n",
       "      <th>Votes</th>\n",
       "    </tr>\n",
       "  </thead>\n",
       "  <tbody>\n",
       "    <tr>\n",
       "      <th>0</th>\n",
       "      <td>London</td>\n",
       "      <td>5</td>\n",
       "      <td>18608865</td>\n",
       "      <td>3326590</td>\n",
       "    </tr>\n",
       "    <tr>\n",
       "      <th>1</th>\n",
       "      <td>Rome</td>\n",
       "      <td>3</td>\n",
       "      <td>18852517</td>\n",
       "      <td>3093478</td>\n",
       "    </tr>\n",
       "    <tr>\n",
       "      <th>2</th>\n",
       "      <td>Venice</td>\n",
       "      <td>3</td>\n",
       "      <td>18800115</td>\n",
       "      <td>2869122</td>\n",
       "    </tr>\n",
       "    <tr>\n",
       "      <th>3</th>\n",
       "      <td>Paris</td>\n",
       "      <td>3</td>\n",
       "      <td>4787050</td>\n",
       "      <td>3195503</td>\n",
       "    </tr>\n",
       "    <tr>\n",
       "      <th>4</th>\n",
       "      <td>Barcelona</td>\n",
       "      <td>5</td>\n",
       "      <td>10274895</td>\n",
       "      <td>3976333</td>\n",
       "    </tr>\n",
       "  </tbody>\n",
       "</table>\n",
       "</div>"
      ],
      "text/plain": [
       "      Places  Average Rating  Population    Votes\n",
       "0     London               5    18608865  3326590\n",
       "1       Rome               3    18852517  3093478\n",
       "2     Venice               3    18800115  2869122\n",
       "3      Paris               3     4787050  3195503\n",
       "4  Barcelona               5    10274895  3976333"
      ]
     },
     "execution_count": 68,
     "metadata": {},
     "output_type": "execute_result"
    }
   ],
   "source": [
    "# Let's take a look at our dataframe again\n",
    "df"
   ]
  },
  {
   "cell_type": "markdown",
   "metadata": {},
   "source": [
    "### If....else statements in lambda functions"
   ]
  },
  {
   "cell_type": "markdown",
   "metadata": {},
   "source": [
    "General Syntax: \n",
    "\n",
    " lambda (arguments) : Return Value if condition is True.. if...condition...else...Return Value if condition is False\n"
   ]
  },
  {
   "cell_type": "code",
   "execution_count": 86,
   "metadata": {},
   "outputs": [
    {
     "data": {
      "text/plain": [
       "'Lambda'"
      ]
     },
     "execution_count": 86,
     "metadata": {},
     "output_type": "execute_result"
    }
   ],
   "source": [
    "# Example: Returns the value only if it is a string\n",
    "(lambda x: x if type(x) == str else None)('Lambda')"
   ]
  },
  {
   "cell_type": "code",
   "execution_count": 88,
   "metadata": {},
   "outputs": [
    {
     "data": {
      "text/html": [
       "<div>\n",
       "<style scoped>\n",
       "    .dataframe tbody tr th:only-of-type {\n",
       "        vertical-align: middle;\n",
       "    }\n",
       "\n",
       "    .dataframe tbody tr th {\n",
       "        vertical-align: top;\n",
       "    }\n",
       "\n",
       "    .dataframe thead th {\n",
       "        text-align: right;\n",
       "    }\n",
       "</style>\n",
       "<table border=\"1\" class=\"dataframe\">\n",
       "  <thead>\n",
       "    <tr style=\"text-align: right;\">\n",
       "      <th></th>\n",
       "      <th>Places</th>\n",
       "      <th>Average Rating</th>\n",
       "      <th>Population</th>\n",
       "      <th>Votes</th>\n",
       "      <th>Valid</th>\n",
       "      <th>Good Rating</th>\n",
       "    </tr>\n",
       "  </thead>\n",
       "  <tbody>\n",
       "    <tr>\n",
       "      <th>0</th>\n",
       "      <td>London</td>\n",
       "      <td>5</td>\n",
       "      <td>18608865</td>\n",
       "      <td>3326590</td>\n",
       "      <td>3326590</td>\n",
       "      <td>True</td>\n",
       "    </tr>\n",
       "    <tr>\n",
       "      <th>1</th>\n",
       "      <td>Rome</td>\n",
       "      <td>3</td>\n",
       "      <td>18852517</td>\n",
       "      <td>3093478</td>\n",
       "      <td>3093478</td>\n",
       "      <td>False</td>\n",
       "    </tr>\n",
       "    <tr>\n",
       "      <th>2</th>\n",
       "      <td>Venice</td>\n",
       "      <td>3</td>\n",
       "      <td>18800115</td>\n",
       "      <td>2869122</td>\n",
       "      <td>0</td>\n",
       "      <td>False</td>\n",
       "    </tr>\n",
       "    <tr>\n",
       "      <th>3</th>\n",
       "      <td>Paris</td>\n",
       "      <td>3</td>\n",
       "      <td>4787050</td>\n",
       "      <td>3195503</td>\n",
       "      <td>3195503</td>\n",
       "      <td>False</td>\n",
       "    </tr>\n",
       "    <tr>\n",
       "      <th>4</th>\n",
       "      <td>Barcelona</td>\n",
       "      <td>5</td>\n",
       "      <td>10274895</td>\n",
       "      <td>3976333</td>\n",
       "      <td>3976333</td>\n",
       "      <td>True</td>\n",
       "    </tr>\n",
       "  </tbody>\n",
       "</table>\n",
       "</div>"
      ],
      "text/plain": [
       "      Places  Average Rating  Population    Votes    Valid  Good Rating\n",
       "0     London               5    18608865  3326590  3326590         True\n",
       "1       Rome               3    18852517  3093478  3093478        False\n",
       "2     Venice               3    18800115  2869122        0        False\n",
       "3      Paris               3     4787050  3195503  3195503        False\n",
       "4  Barcelona               5    10274895  3976333  3976333         True"
      ]
     },
     "execution_count": 88,
     "metadata": {},
     "output_type": "execute_result"
    }
   ],
   "source": [
    "# Example using df: Sets the value in the column to True or False based on a criteria\n",
    "df['Good Rating'] = df['Average Rating'].map(lambda x: True if x >= 5 else False)"
   ]
  },
  {
   "cell_type": "markdown",
   "metadata": {},
   "source": [
    "## What this does\n",
    "\n",
    "1. Creates a new column called 'Good Rating' --> df['Good Rating']\n",
    "2. Uses the column 'Average Rating' and apply a map to it --> df['Average Rating'].map(...)\n",
    "3. Filters through each element in the Series and if it Greater than 5, returns True, if not returns False --> lambda x: True if x >= 5 else False\n",
    "4. This output a list, which is set to the new column"
   ]
  },
  {
   "cell_type": "markdown",
   "metadata": {},
   "source": [
    "## Modified DataFrame"
   ]
  },
  {
   "cell_type": "code",
   "execution_count": 89,
   "metadata": {},
   "outputs": [
    {
     "data": {
      "text/html": [
       "<div>\n",
       "<style scoped>\n",
       "    .dataframe tbody tr th:only-of-type {\n",
       "        vertical-align: middle;\n",
       "    }\n",
       "\n",
       "    .dataframe tbody tr th {\n",
       "        vertical-align: top;\n",
       "    }\n",
       "\n",
       "    .dataframe thead th {\n",
       "        text-align: right;\n",
       "    }\n",
       "</style>\n",
       "<table border=\"1\" class=\"dataframe\">\n",
       "  <thead>\n",
       "    <tr style=\"text-align: right;\">\n",
       "      <th></th>\n",
       "      <th>Places</th>\n",
       "      <th>Average Rating</th>\n",
       "      <th>Population</th>\n",
       "      <th>Votes</th>\n",
       "      <th>Valid</th>\n",
       "      <th>Good Rating</th>\n",
       "    </tr>\n",
       "  </thead>\n",
       "  <tbody>\n",
       "    <tr>\n",
       "      <th>0</th>\n",
       "      <td>London</td>\n",
       "      <td>5</td>\n",
       "      <td>18608865</td>\n",
       "      <td>3326590</td>\n",
       "      <td>3326590</td>\n",
       "      <td>True</td>\n",
       "    </tr>\n",
       "    <tr>\n",
       "      <th>1</th>\n",
       "      <td>Rome</td>\n",
       "      <td>3</td>\n",
       "      <td>18852517</td>\n",
       "      <td>3093478</td>\n",
       "      <td>3093478</td>\n",
       "      <td>False</td>\n",
       "    </tr>\n",
       "    <tr>\n",
       "      <th>2</th>\n",
       "      <td>Venice</td>\n",
       "      <td>3</td>\n",
       "      <td>18800115</td>\n",
       "      <td>2869122</td>\n",
       "      <td>0</td>\n",
       "      <td>False</td>\n",
       "    </tr>\n",
       "    <tr>\n",
       "      <th>3</th>\n",
       "      <td>Paris</td>\n",
       "      <td>3</td>\n",
       "      <td>4787050</td>\n",
       "      <td>3195503</td>\n",
       "      <td>3195503</td>\n",
       "      <td>False</td>\n",
       "    </tr>\n",
       "    <tr>\n",
       "      <th>4</th>\n",
       "      <td>Barcelona</td>\n",
       "      <td>5</td>\n",
       "      <td>10274895</td>\n",
       "      <td>3976333</td>\n",
       "      <td>3976333</td>\n",
       "      <td>True</td>\n",
       "    </tr>\n",
       "  </tbody>\n",
       "</table>\n",
       "</div>"
      ],
      "text/plain": [
       "      Places  Average Rating  Population    Votes    Valid  Good Rating\n",
       "0     London               5    18608865  3326590  3326590         True\n",
       "1       Rome               3    18852517  3093478  3093478        False\n",
       "2     Venice               3    18800115  2869122        0        False\n",
       "3      Paris               3     4787050  3195503  3195503        False\n",
       "4  Barcelona               5    10274895  3976333  3976333         True"
      ]
     },
     "execution_count": 89,
     "metadata": {},
     "output_type": "execute_result"
    }
   ],
   "source": [
    "df"
   ]
  }
 ],
 "metadata": {
  "file_extension": ".py",
  "kernelspec": {
   "display_name": "Python 3",
   "language": "python",
   "name": "python3"
  },
  "language_info": {
   "codemirror_mode": {
    "name": "ipython",
    "version": 3
   },
   "file_extension": ".py",
   "mimetype": "text/x-python",
   "name": "python",
   "nbconvert_exporter": "python",
   "pygments_lexer": "ipython3",
   "version": "3.8.1"
  },
  "mimetype": "text/x-python",
  "name": "python",
  "npconvert_exporter": "python",
  "pygments_lexer": "ipython3",
  "version": 3
 },
 "nbformat": 4,
 "nbformat_minor": 2
}
